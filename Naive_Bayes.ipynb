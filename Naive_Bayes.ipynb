{
  "nbformat": 4,
  "nbformat_minor": 0,
  "metadata": {
    "colab": {
      "provenance": [],
      "authorship_tag": "ABX9TyMtKcSxlKnEhEcr0s6GFc+q",
      "include_colab_link": true
    },
    "kernelspec": {
      "name": "python3",
      "display_name": "Python 3"
    },
    "language_info": {
      "name": "python"
    }
  },
  "cells": [
    {
      "cell_type": "markdown",
      "metadata": {
        "id": "view-in-github",
        "colab_type": "text"
      },
      "source": [
        "<a href=\"https://colab.research.google.com/github/HillaryDrugs/li7/blob/main/Naive_Bayes.ipynb\" target=\"_parent\"><img src=\"https://colab.research.google.com/assets/colab-badge.svg\" alt=\"Open In Colab\"/></a>"
      ]
    },
    {
      "cell_type": "code",
      "execution_count": null,
      "metadata": {
        "id": "VeKEuoRG1QR8"
      },
      "outputs": [],
      "source": [
        "\n",
        "import warnings\n",
        "warnings.filterwarnings(\"ignore\")  # hide pandas/sklearn warnings\n",
        "\n",
        "import pandas as pd\n",
        "import random\n",
        "from sklearn.model_selection import train_test_split\n",
        "from sklearn.feature_extraction.text import CountVectorizer, TfidfTransformer\n",
        "from sklearn.naive_bayes import MultinomialNB\n",
        "from sklearn.pipeline import Pipeline\n",
        "\n",
        "RANDOM_SAMPLES = 3          # how many random messages to show each run\n",
        "CSV_PATH = \"spam.csv\"       # dataset path (v1=label, v2=text)\n",
        "\n",
        "# --- Load dataset ---\n",
        "df = pd.read_csv(CSV_PATH, encoding=\"latin-1\", engine=\"python\", on_bad_lines=\"skip\")\n",
        "df = df.rename(columns={\"v1\": \"label\", \"v2\": \"text\"})\n",
        "df = df[[\"label\", \"text\"]].dropna()\n",
        "\n",
        "# map labels: ham→0, spam→1\n",
        "df[\"label\"] = df[\"label\"].astype(str).str.strip().str.lower().map({\"ham\": 0, \"spam\": 1})\n",
        "\n",
        "X = df[\"text\"].astype(str)\n",
        "y = df[\"label\"]\n",
        "\n",
        "# --- Train/test split ---\n",
        "X_train, X_test, y_train, y_test = train_test_split(\n",
        "    X, y, test_size=0.2, random_state=42, stratify=y\n",
        ")\n",
        "\n",
        "# --- Build & train model ---\n",
        "model = Pipeline([\n",
        "    (\"vect\", CountVectorizer()),\n",
        "    (\"tfidf\", TfidfTransformer()),\n",
        "    (\"clf\", MultinomialNB()),\n",
        "])\n",
        "model.fit(X_train, y_train)\n",
        "\n",
        "# --- Accuracy ---\n",
        "accuracy = model.score(X_test, y_test)\n",
        "print(f\"Model Accuracy: {accuracy * 100:.2f}%\")\n",
        "print(\"-\" * 52)\n",
        "\n",
        "# --- Show RANDOM_SAMPLES random messages from dataset with predictions ---\n",
        "sample_df = df.sample(RANDOM_SAMPLES, random_state=None)\n",
        "for i, row in sample_df.iterrows():\n",
        "    txt = row[\"text\"]\n",
        "    pred = model.predict([txt])[0]\n",
        "    label = \"SPAM\" if pred == 1 else \"HAM\"\n",
        "    print(\"Random Message:\")\n",
        "    print(txt)\n",
        "    print(f\"Prediction: {label}\")\n",
        "    print(\"-\" * 52)\n",
        "\n",
        "# --- Interactive user input classification ---\n",
        "try:\n",
        "    while True:\n",
        "        user_text = input(\"\\nType a message to classify (Enter to quit): \").strip()\n",
        "        if user_text == \"\":\n",
        "            print(\"Bye!\")\n",
        "            break\n",
        "        pred = model.predict([user_text])[0]\n",
        "        label = \"SPAM\" if pred == 1 else \"HAM\"\n",
        "        print(f\"Prediction: {label}\")\n",
        "except EOFError:\n",
        "    # In case input() isn't available (e.g., some notebook runners)\n",
        "    pass\n"
      ]
    }
  ]
}